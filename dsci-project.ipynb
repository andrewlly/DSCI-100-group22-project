{
 "cells": [
  {
   "cell_type": "markdown",
   "id": "069097dc-144e-43ea-be3c-26dd2eee9137",
   "metadata": {},
   "source": [
    "## Title\r\n",
    "Predicting Tennis Player Rankings Based on Player Statistics"
   ]
  },
  {
   "cell_type": "markdown",
   "id": "45ae3829-50d2-45fe-ab19-d05652340b18",
   "metadata": {},
   "source": [
    "## Introduction\n",
    "\n",
    "Tennis, a globally popular sport, has seen numerous players rise and fall in the rankings. The rankings are determined by several factors, primarily by a player's performance in tournaments. However, there might be underlying features or characteristics of top-ranked players that could potentially predict their rankings. By using the \"Player Stats for Top 500 Players\" dataset, our goal is to predict a tennis player's rank based on various player statistics.\n",
    "\n",
    "### Predictive Question:\n",
    "Can we predict a tennis player's current rank based on their age, playing style, prize money earned, favorite surface, number of seasons played, current Elo rank, number of titles won, and the number of weeks they've been at No. 1?\n",
    "\n",
    "### Dataset Description:\n",
    "The dataset \"Player Stats for Top 500 Players\" contains a comprehensive list of variables related to the top tennis players. These variables range from personal details, professional statistics, and social media presence.\r",
    "is"
   ]
  },
  {
   "cell_type": "markdown",
   "id": "c2637551-2caf-411e-a539-6650e5889a8a",
   "metadata": {},
   "source": [
    "**Reading the Dataset from Web into R**:\r\n",
    "We would demonstrate reading the dataset directly from its web source into R, probably using functions like `read.csv()` or relevant packages like `readr`.\r\n",
    "\r\n",
    "**Data Wrangling and Cleaning**:\r\n",
    "Ensure that the dataset is in a tidy format. Remove any rows with missing data for the variables/columns we plan to use. Convert data types if necessary.\r\n",
    "\r\n",
    "**Summary Table**:\r\n",
    "A table showing:\r\n",
    "- Number of observations for each favorite surface (e.g., Grass, Clay, Hard)\r\n",
    "- Mean prize money earned by players\r\n",
    "- Average age of players\r\n",
    "- Average number of seasons played by players\r\n",
    "- Mean of current Elo rank\r\n",
    "\r\n",
    "**Visualization**:\r\n",
    "A scatter plot comparing the \"Prize Money\" against the \"Current Rank\", to visualize if there's any trend between earnings and rank.\r\n",
    "\r\n",
    "## Methods\r\n",
    "\r\n",
    "We'll use a regression model, probably a linear regression if our exploratory data analysis suggests a linear relationship between the features and the target variable (Current Rank).\r\n",
    "\r\n",
    "**Variables/Columns to be used**:\r\n",
    "1. Age\r\n",
    "2. Prize Money\r\n",
    "3. Favorite Surface\r\n",
    "4. Seasons\r\n",
    "5. Current Elo Rank\r\n",
    "6. Titles\r\n",
    "7. Weeks at No. 1\r\n",
    "\r\n",
    "**Visualizing the Results**:\r\n",
    "We will plot the predicted ranks against the actual ranks to visualize the accuracy of our model. Additionally, a residual plot can be plotted to understand the differences between actual and predicted values.\r\n",
    "\r\n",
    "## Expected Outcomes and Significance\r\n",
    "\r\n",
    "**Expected Findings**:\r\n",
    "We expect to find a relationship between the player's statistics (like prize money, number of titles, etc.) and their rankings. Players with higher earnings, more titles, and those who have spent more weeks at No. 1 might have better rankings.\r\n",
    "\r\n",
    "**Impact**:\r\n",
    "Understanding these relationships can provide insights into what factors contribute most to a player's ranking, which can be useful for players, coaches, and analysts.\r\n",
    "\r\n",
    "**Future Questions**:\r\n",
    "- How does the player's favorite surface impact their performance in grand slams specific to those surfaces?\r\n",
    "- Does the age of turning pro correlate with a player's success in their career?\r\n",
    "- How has the influence of social media presence (like Facebook, Twitter followers) affected a player's popularity or endorsements, if at all?"
   ]
  },
  {
   "cell_type": "code",
   "execution_count": 1,
   "id": "9971f7e0-ae77-499a-ae3a-a778dd262e89",
   "metadata": {},
   "outputs": [
    {
     "name": "stderr",
     "output_type": "stream",
     "text": [
      "── \u001b[1mAttaching core tidyverse packages\u001b[22m ──────────────────────── tidyverse 2.0.0 ──\n",
      "\u001b[32m✔\u001b[39m \u001b[34mdplyr    \u001b[39m 1.1.3     \u001b[32m✔\u001b[39m \u001b[34mreadr    \u001b[39m 2.1.4\n",
      "\u001b[32m✔\u001b[39m \u001b[34mforcats  \u001b[39m 1.0.0     \u001b[32m✔\u001b[39m \u001b[34mstringr  \u001b[39m 1.5.0\n",
      "\u001b[32m✔\u001b[39m \u001b[34mggplot2  \u001b[39m 3.4.3     \u001b[32m✔\u001b[39m \u001b[34mtibble   \u001b[39m 3.2.1\n",
      "\u001b[32m✔\u001b[39m \u001b[34mlubridate\u001b[39m 1.9.2     \u001b[32m✔\u001b[39m \u001b[34mtidyr    \u001b[39m 1.3.0\n",
      "\u001b[32m✔\u001b[39m \u001b[34mpurrr    \u001b[39m 1.0.2     \n",
      "── \u001b[1mConflicts\u001b[22m ────────────────────────────────────────── tidyverse_conflicts() ──\n",
      "\u001b[31m✖\u001b[39m \u001b[34mdplyr\u001b[39m::\u001b[32mfilter()\u001b[39m masks \u001b[34mstats\u001b[39m::filter()\n",
      "\u001b[31m✖\u001b[39m \u001b[34mdplyr\u001b[39m::\u001b[32mlag()\u001b[39m    masks \u001b[34mstats\u001b[39m::lag()\n",
      "\u001b[36mℹ\u001b[39m Use the conflicted package (\u001b[3m\u001b[34m<http://conflicted.r-lib.org/>\u001b[39m\u001b[23m) to force all conflicts to become errors\n",
      "Warning message in file(filename, \"r\", encoding = encoding):\n",
      "“cannot open file 'tests.R': No such file or directory”\n"
     ]
    },
    {
     "ename": "ERROR",
     "evalue": "Error in file(filename, \"r\", encoding = encoding): cannot open the connection\n",
     "output_type": "error",
     "traceback": [
      "Error in file(filename, \"r\", encoding = encoding): cannot open the connection\nTraceback:\n",
      "1. source(\"tests.R\")",
      "2. file(filename, \"r\", encoding = encoding)"
     ]
    }
   ],
   "source": [
    "#Import library \n",
    "library(tidyverse)\n",
    "library(repr)\n",
    "library(readxl)\n",
    "source(\"tests.R\")\n",
    "source(\"cleanup.R\")\n",
    "options(repr.matrix.max.rows = 6)"
   ]
  },
  {
   "cell_type": "code",
   "execution_count": 2,
   "id": "60e6eac6-d8e7-4a07-98ce-c2bb35a6d350",
   "metadata": {},
   "outputs": [],
   "source": [
    "# Commentted out the following code to prevent duplicate downloads\n",
    "url <- \"https://drive.google.com/uc?export=download&id=19AaN0S9kClY0hyl3Xtk_4PDTVg7d9uL3\"\n",
    "download.file(url, \"data/raw_housing.csv\")"
   ]
  },
  {
   "cell_type": "code",
   "execution_count": 3,
   "id": "381389a2-f057-4dfa-8ce9-7540d03b3192",
   "metadata": {
    "scrolled": true
   },
   "outputs": [
    {
     "name": "stderr",
     "output_type": "stream",
     "text": [
      "\u001b[1mRows: \u001b[22m\u001b[34m20640\u001b[39m \u001b[1mColumns: \u001b[22m\u001b[34m10\u001b[39m\n",
      "\u001b[36m──\u001b[39m \u001b[1mColumn specification\u001b[22m \u001b[36m────────────────────────────────────────────────────────\u001b[39m\n",
      "\u001b[1mDelimiter:\u001b[22m \",\"\n",
      "\u001b[31mchr\u001b[39m (1): ocean_proximity\n",
      "\u001b[32mdbl\u001b[39m (9): longitude, latitude, housing_median_age, total_rooms, total_bedroom...\n",
      "\n",
      "\u001b[36mℹ\u001b[39m Use `spec()` to retrieve the full column specification for this data.\n",
      "\u001b[36mℹ\u001b[39m Specify the column types or set `show_col_types = FALSE` to quiet this message.\n"
     ]
    },
    {
     "data": {
      "text/html": [
       "<table class=\"dataframe\">\n",
       "<caption>A tibble: 6 × 10</caption>\n",
       "<thead>\n",
       "\t<tr><th scope=col>longitude</th><th scope=col>latitude</th><th scope=col>housing_median_age</th><th scope=col>total_rooms</th><th scope=col>total_bedrooms</th><th scope=col>population</th><th scope=col>households</th><th scope=col>median_income</th><th scope=col>median_house_value</th><th scope=col>ocean_proximity</th></tr>\n",
       "\t<tr><th scope=col>&lt;dbl&gt;</th><th scope=col>&lt;dbl&gt;</th><th scope=col>&lt;dbl&gt;</th><th scope=col>&lt;dbl&gt;</th><th scope=col>&lt;dbl&gt;</th><th scope=col>&lt;dbl&gt;</th><th scope=col>&lt;dbl&gt;</th><th scope=col>&lt;dbl&gt;</th><th scope=col>&lt;dbl&gt;</th><th scope=col>&lt;chr&gt;</th></tr>\n",
       "</thead>\n",
       "<tbody>\n",
       "\t<tr><td>-122.23</td><td>37.88</td><td>41</td><td> 880</td><td> 129</td><td> 322</td><td> 126</td><td>8.3252</td><td>452600</td><td>NEAR BAY</td></tr>\n",
       "\t<tr><td>-122.22</td><td>37.86</td><td>21</td><td>7099</td><td>1106</td><td>2401</td><td>1138</td><td>8.3014</td><td>358500</td><td>NEAR BAY</td></tr>\n",
       "\t<tr><td>-122.24</td><td>37.85</td><td>52</td><td>1467</td><td> 190</td><td> 496</td><td> 177</td><td>7.2574</td><td>352100</td><td>NEAR BAY</td></tr>\n",
       "\t<tr><td>-122.25</td><td>37.85</td><td>52</td><td>1274</td><td> 235</td><td> 558</td><td> 219</td><td>5.6431</td><td>341300</td><td>NEAR BAY</td></tr>\n",
       "\t<tr><td>-122.25</td><td>37.85</td><td>52</td><td>1627</td><td> 280</td><td> 565</td><td> 259</td><td>3.8462</td><td>342200</td><td>NEAR BAY</td></tr>\n",
       "\t<tr><td>-122.25</td><td>37.85</td><td>52</td><td> 919</td><td> 213</td><td> 413</td><td> 193</td><td>4.0368</td><td>269700</td><td>NEAR BAY</td></tr>\n",
       "</tbody>\n",
       "</table>\n"
      ],
      "text/latex": [
       "A tibble: 6 × 10\n",
       "\\begin{tabular}{llllllllll}\n",
       " longitude & latitude & housing\\_median\\_age & total\\_rooms & total\\_bedrooms & population & households & median\\_income & median\\_house\\_value & ocean\\_proximity\\\\\n",
       " <dbl> & <dbl> & <dbl> & <dbl> & <dbl> & <dbl> & <dbl> & <dbl> & <dbl> & <chr>\\\\\n",
       "\\hline\n",
       "\t -122.23 & 37.88 & 41 &  880 &  129 &  322 &  126 & 8.3252 & 452600 & NEAR BAY\\\\\n",
       "\t -122.22 & 37.86 & 21 & 7099 & 1106 & 2401 & 1138 & 8.3014 & 358500 & NEAR BAY\\\\\n",
       "\t -122.24 & 37.85 & 52 & 1467 &  190 &  496 &  177 & 7.2574 & 352100 & NEAR BAY\\\\\n",
       "\t -122.25 & 37.85 & 52 & 1274 &  235 &  558 &  219 & 5.6431 & 341300 & NEAR BAY\\\\\n",
       "\t -122.25 & 37.85 & 52 & 1627 &  280 &  565 &  259 & 3.8462 & 342200 & NEAR BAY\\\\\n",
       "\t -122.25 & 37.85 & 52 &  919 &  213 &  413 &  193 & 4.0368 & 269700 & NEAR BAY\\\\\n",
       "\\end{tabular}\n"
      ],
      "text/markdown": [
       "\n",
       "A tibble: 6 × 10\n",
       "\n",
       "| longitude &lt;dbl&gt; | latitude &lt;dbl&gt; | housing_median_age &lt;dbl&gt; | total_rooms &lt;dbl&gt; | total_bedrooms &lt;dbl&gt; | population &lt;dbl&gt; | households &lt;dbl&gt; | median_income &lt;dbl&gt; | median_house_value &lt;dbl&gt; | ocean_proximity &lt;chr&gt; |\n",
       "|---|---|---|---|---|---|---|---|---|---|\n",
       "| -122.23 | 37.88 | 41 |  880 |  129 |  322 |  126 | 8.3252 | 452600 | NEAR BAY |\n",
       "| -122.22 | 37.86 | 21 | 7099 | 1106 | 2401 | 1138 | 8.3014 | 358500 | NEAR BAY |\n",
       "| -122.24 | 37.85 | 52 | 1467 |  190 |  496 |  177 | 7.2574 | 352100 | NEAR BAY |\n",
       "| -122.25 | 37.85 | 52 | 1274 |  235 |  558 |  219 | 5.6431 | 341300 | NEAR BAY |\n",
       "| -122.25 | 37.85 | 52 | 1627 |  280 |  565 |  259 | 3.8462 | 342200 | NEAR BAY |\n",
       "| -122.25 | 37.85 | 52 |  919 |  213 |  413 |  193 | 4.0368 | 269700 | NEAR BAY |\n",
       "\n"
      ],
      "text/plain": [
       "  longitude latitude housing_median_age total_rooms total_bedrooms population\n",
       "1 -122.23   37.88    41                  880         129            322      \n",
       "2 -122.22   37.86    21                 7099        1106           2401      \n",
       "3 -122.24   37.85    52                 1467         190            496      \n",
       "4 -122.25   37.85    52                 1274         235            558      \n",
       "5 -122.25   37.85    52                 1627         280            565      \n",
       "6 -122.25   37.85    52                  919         213            413      \n",
       "  households median_income median_house_value ocean_proximity\n",
       "1  126       8.3252        452600             NEAR BAY       \n",
       "2 1138       8.3014        358500             NEAR BAY       \n",
       "3  177       7.2574        352100             NEAR BAY       \n",
       "4  219       5.6431        341300             NEAR BAY       \n",
       "5  259       3.8462        342200             NEAR BAY       \n",
       "6  193       4.0368        269700             NEAR BAY       "
      ]
     },
     "metadata": {},
     "output_type": "display_data"
    }
   ],
   "source": [
    "#read and observe raw data\n",
    "raw_housing <- read_csv(\"data/raw_housing.csv\")\n",
    "head(raw_housing)"
   ]
  },
  {
   "cell_type": "code",
   "execution_count": null,
   "id": "d040e85a-25de-40a7-b574-464e568f031a",
   "metadata": {},
   "outputs": [],
   "source": []
  },
  {
   "cell_type": "code",
   "execution_count": null,
   "id": "4df0faad-7956-4bde-889e-7dc90f9b00d6",
   "metadata": {},
   "outputs": [],
   "source": []
  }
 ],
 "metadata": {
  "kernelspec": {
   "display_name": "R",
   "language": "R",
   "name": "ir"
  },
  "language_info": {
   "codemirror_mode": "r",
   "file_extension": ".r",
   "mimetype": "text/x-r-source",
   "name": "R",
   "pygments_lexer": "r",
   "version": "4.3.1"
  }
 },
 "nbformat": 4,
 "nbformat_minor": 5
}
